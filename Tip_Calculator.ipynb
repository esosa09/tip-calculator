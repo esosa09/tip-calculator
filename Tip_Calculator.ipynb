{
  "nbformat": 4,
  "nbformat_minor": 0,
  "metadata": {
    "colab": {
      "provenance": [],
      "authorship_tag": "ABX9TyMtyP7v8g3sQhKko6nQoj2V",
      "include_colab_link": true
    },
    "kernelspec": {
      "name": "python3",
      "display_name": "Python 3"
    },
    "language_info": {
      "name": "python"
    }
  },
  "cells": [
    {
      "cell_type": "markdown",
      "metadata": {
        "id": "view-in-github",
        "colab_type": "text"
      },
      "source": [
        "<a href=\"https://colab.research.google.com/github/esosa09/tip-calculator/blob/main/Tip_Calculator.ipynb\" target=\"_parent\"><img src=\"https://colab.research.google.com/assets/colab-badge.svg\" alt=\"Open In Colab\"/></a>"
      ]
    },
    {
      "cell_type": "code",
      "execution_count": null,
      "metadata": {
        "colab": {
          "base_uri": "https://localhost:8080/"
        },
        "id": "Q5gysBLO6q2T",
        "outputId": "74971288-3445-4c6a-8d41-8421c26439fc"
      },
      "outputs": [
        {
          "output_type": "stream",
          "name": "stdout",
          "text": [
            "Enter the bill total: $87.98\n",
            "Enter the tip percentage (e.g., 15 for 15%): 15\n",
            "\n",
            "You should pay: $101.18\n"
          ]
        }
      ],
      "source": [
        "# Ask the user for the bill total\n",
        "bill_total = float(input(\"Enter the bill total: $\"))\n",
        "\n",
        "# Ask the user for the tip percentage\n",
        "tip_percent = float(input(\"Enter the tip percentage (e.g., 15 for 15%): \"))\n",
        "\n",
        "# Calculate the tip amount\n",
        "tip_amount = bill_total * (tip_percent / 100)\n",
        "\n",
        "# Calculate the total amount to pay\n",
        "total_to_pay = bill_total + tip_amount\n",
        "\n",
        "# Print the total amount to pay\n",
        "print(f\"\\nYou should pay: ${total_to_pay:.2f}\")"
      ]
    }
  ]
}